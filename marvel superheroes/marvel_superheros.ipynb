{
 "cells": [
  {
   "cell_type": "code",
   "execution_count": 1,
   "metadata": {},
   "outputs": [],
   "source": [
    "import findspark\n",
    "findspark.init()\n",
    "from pyspark import SparkConf, SparkContext\n",
    "\n",
    "conf = SparkConf().setMaster(\"local\").setAppName(\"Marvel\")\n",
    "sc = SparkContext(conf = conf)"
   ]
  },
  {
   "cell_type": "code",
   "execution_count": 2,
   "metadata": {
    "scrolled": true
   },
   "outputs": [
    {
     "name": "stdout",
     "output_type": "stream",
     "text": [
      "b'CAPTAIN AMERICA' is the most popular superhero, with 1933 co-appearances.\n"
     ]
    }
   ],
   "source": [
    "def countCoOccurences(line):\n",
    "    elements = line.split()\n",
    "    return (int(elements[0]), len(elements) - 1) # element[0] gives the superhero name, len(element) gives number of heroes\n",
    "\n",
    "def parseNames(line):\n",
    "    fields = line.split('\\\"')\n",
    "    return (int(fields[0]), fields[1].encode(\"utf8\")) # encoding as utf8\n",
    "\n",
    "names = sc.textFile(\"file:///SparkCourse/marvel superheroes/marvel-names.txt\")\n",
    "namesRdd = names.map(parseNames)\n",
    "\n",
    "lines = sc.textFile(\"file:///SparkCourse/marvel superheroes/marvel-graph.txt\")\n",
    "\n",
    "pairings = lines.map(countCoOccurences)\n",
    "totalFriendsByCharacter = pairings.reduceByKey(lambda x, y : x + y)\n",
    "flipped = totalFriendsByCharacter.map(lambda xy : (xy[1], xy[0]))\n",
    "\n",
    "mostPopular = flipped.max() # max is performed on the key which is the number of occurance and gives its name, which is the id \n",
    "                            # of he super hero\n",
    "\n",
    "mostPopularName = namesRdd.lookup(mostPopular[1])[0] # looks up most popular by the id key and returns the line, and we choose the name\n",
    "\n",
    "print(str(mostPopularName) + \" is the most popular superhero, with \" + \\\n",
    "    str(mostPopular[0]) + \" co-appearances.\")\n"
   ]
  },
  {
   "cell_type": "code",
   "execution_count": null,
   "metadata": {},
   "outputs": [],
   "source": []
  }
 ],
 "metadata": {
  "kernelspec": {
   "display_name": "Python 3",
   "language": "python",
   "name": "python3"
  },
  "language_info": {
   "codemirror_mode": {
    "name": "ipython",
    "version": 3
   },
   "file_extension": ".py",
   "mimetype": "text/x-python",
   "name": "python",
   "nbconvert_exporter": "python",
   "pygments_lexer": "ipython3",
   "version": "3.6.4"
  }
 },
 "nbformat": 4,
 "nbformat_minor": 2
}
