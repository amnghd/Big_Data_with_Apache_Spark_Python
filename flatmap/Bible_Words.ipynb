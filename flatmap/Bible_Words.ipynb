{
 "cells": [
  {
   "cell_type": "markdown",
   "metadata": {},
   "source": [
    "# Bible's Most used words\n",
    "\n",
    "We are developing a small spark code to go through the New Testment and see what words are most used.\n",
    "The methods utilized are:\n",
    "\n",
    "- ``flatmap`` that maps each item in the RDD to several items (simple map just map one-to-one)\n",
    "- ``countByValue`` that counts the number of happending of an entry"
   ]
  },
  {
   "cell_type": "code",
   "execution_count": 1,
   "metadata": {},
   "outputs": [],
   "source": [
    "import findspark\n",
    "findspark.init()\n",
    "\n",
    "from pyspark import SparkConf, SparkContext\n",
    "\n",
    "conf = SparkConf().setMaster(\"local\").setAppName(\"WordCount\")\n",
    "sc = SparkContext(conf = conf)"
   ]
  },
  {
   "cell_type": "code",
   "execution_count": 24,
   "metadata": {
    "scrolled": true
   },
   "outputs": [
    {
     "name": "stdout",
     "output_type": "stream",
     "text": [
      "LORD 6229\n",
      "God 3885\n",
      "will 3805\n",
      "upon 2731\n",
      "man 2530\n",
      "Israel 2369\n",
      "king 2144\n",
      "people 2045\n",
      "son 2040\n",
      "house 1942\n",
      "one 1802\n",
      "children 1782\n",
      "day 1662\n",
      "land 1656\n",
      "men 1567\n",
      "went 1395\n",
      "made 1394\n",
      "hand 1390\n",
      "saying 1386\n",
      "us 1328\n",
      "even 1293\n",
      "saith 1260\n",
      "go 1236\n"
     ]
    }
   ],
   "source": [
    "import re\n",
    "input = sc.textFile(\"file:///sparkcourse/flatmap/bible.txt\")\n",
    "words = input.flatMap(lambda x: re.split('[\\t\\s:.,]+', x))\n",
    "wordCounts = words.countByValue()\n",
    "wordCounts = sorted(wordCounts.items(), key=lambda k_v: k_v[1], reverse=True)\n",
    "ctr = 0\n",
    "\n",
    "with open('sw.txt', 'r') as myfile:\n",
    "    sw = myfile.read().replace('\\n', ' ')\n",
    "    sw = re.split('[\\t\\s:.,]+', sw)\n",
    "stopwords = set(sw)\n",
    "\n",
    "\n",
    "for word, count in wordCounts:\n",
    "    if word.lower() not in stopwords:\n",
    "        ctr += 1\n",
    "        if ctr >=25:\n",
    "            break\n",
    "        cleanWord = word.encode('ascii', 'ignore')\n",
    "        if (cleanWord):\n",
    "            print(cleanWord.decode() + \" \" + str(count))"
   ]
  },
  {
   "cell_type": "code",
   "execution_count": null,
   "metadata": {},
   "outputs": [],
   "source": []
  }
 ],
 "metadata": {
  "kernelspec": {
   "display_name": "Python 3",
   "language": "python",
   "name": "python3"
  },
  "language_info": {
   "codemirror_mode": {
    "name": "ipython",
    "version": 3
   },
   "file_extension": ".py",
   "mimetype": "text/x-python",
   "name": "python",
   "nbconvert_exporter": "python",
   "pygments_lexer": "ipython3",
   "version": "3.6.4"
  }
 },
 "nbformat": 4,
 "nbformat_minor": 2
}
