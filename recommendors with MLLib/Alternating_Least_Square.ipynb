{
 "cells": [
  {
   "cell_type": "markdown",
   "metadata": {},
   "source": [
    "### Machine Leaning for Movie Recommendation\n",
    "\n",
    "In this notebook, we are looking to perform machine learning using \"MLLib\" library which seats on top of Spark. It provides us with the oppurtunity to easily perform analytics and machine learning using spark. Many models are available:\n",
    "\n",
    "- ``KNN``\n",
    "- ``Linear Regression``\n",
    "- ``SVM``\n",
    "- ``Naiive Bayes``\n",
    "- ``Decision Trees``\n",
    "- ``Principal Component Analysis``\n",
    "- ``Singular Value Decomposition``\n",
    "- ``Alternatig Least Square`` --> this allows us to perform recommendation easily thtough spark\n",
    "\n",
    "There are three additional data types, nameley:\n",
    "\n",
    "- ``vector`` for dense and sparse matrixes\n",
    "- ``labeled points`` to assign label to values\n",
    "- ``rating`` to perform recommendation analysis\n",
    "\n"
   ]
  },
  {
   "cell_type": "code",
   "execution_count": 1,
   "metadata": {},
   "outputs": [],
   "source": [
    "import findspark\n",
    "findspark.init()"
   ]
  },
  {
   "cell_type": "code",
   "execution_count": 2,
   "metadata": {},
   "outputs": [],
   "source": [
    "import sys\n",
    "from pyspark import SparkConf, SparkContext\n",
    "# we do need to explicitly import them\n",
    "from pyspark.mllib.recommendation import ALS, Rating\n",
    "\n",
    "conf = SparkConf().setMaster(\"local[*]\").setAppName(\"MovieRecommendationsALS\")\n",
    "sc = SparkContext(conf = conf)\n",
    "sc.setCheckpointDir('checkpoint')"
   ]
  },
  {
   "cell_type": "code",
   "execution_count": 5,
   "metadata": {},
   "outputs": [
    {
     "name": "stdout",
     "output_type": "stream",
     "text": [
      "\n",
      "Loading movie names...\n",
      "\n",
      "Training recommendation model...\n",
      "\n",
      "Ratings for user ID 0:\n",
      "Star Wars (1977): 5.0\n",
      "Empire Strikes Back, The (1980): 5.0\n",
      "Gone with the Wind (1939): 1.0\n",
      "\n",
      "Top 10 recommendations:\n",
      "Stupids, The (1996) score 7.274646363916272\n",
      "Love Jones (1997) score 7.0868202856518465\n",
      "In the Line of Duty 2 (1987) score 6.8831234364748966\n",
      "Secret Agent, The (1996) score 6.634535455305416\n",
      "unknown score 6.580162800145996\n",
      "In the Mouth of Madness (1995) score 6.3871337384291476\n",
      "Maya Lin: A Strong Clear Vision (1994) score 6.3348871818306725\n",
      "Cronos (1992) score 6.32136812081478\n",
      "Inspector General, The (1949) score 6.318240177389676\n",
      "Army of Darkness (1993) score 5.954021252033902\n"
     ]
    }
   ],
   "source": [
    "\n",
    "def loadMovieNames():\n",
    "    movieNames = {}\n",
    "    with open(\"ml-100k/u.ITEM\", encoding='ascii', errors=\"ignore\") as f:\n",
    "        for line in f:\n",
    "            fields = line.split('|')\n",
    "            movieNames[int(fields[0])] = fields[1]\n",
    "    return movieNames\n",
    "\n",
    "\n",
    "print(\"\\nLoading movie names...\")\n",
    "nameDict = loadMovieNames()\n",
    "\n",
    "data = sc.textFile(\"ml-100k/u.data\")\n",
    "\n",
    "# bringing data to Rating datatype\n",
    "ratings = data.map(lambda l: l.split()).map(lambda l: Rating(int(l[0]), int(l[1]), float(l[2]))).cache()\n",
    "\n",
    "# Build the recommendation model using Alternating Least Squares\n",
    "print(\"\\nTraining recommendation model...\")\n",
    "rank = 10\n",
    "# Lowered numIterations to ensure it works on lower-end systems\n",
    "numIterations = 6 # increasing it would increase the time \n",
    "model = ALS.train(ratings, rank, numIterations)\n",
    "\n",
    "userID = 0\n",
    "\n",
    "#thenw we ask to provide top 10 recommendation for the userID\n",
    "print(\"\\nRatings for user ID \" + str(userID) + \":\")\n",
    "userRatings = ratings.filter(lambda l: l[0] == userID)\n",
    "for rating in userRatings.collect():\n",
    "    print (nameDict[int(rating[1])] + \": \" + str(rating[2]))\n",
    "\n",
    "print(\"\\nTop 10 recommendations:\")\n",
    "recommendations = model.recommendProducts(userID, 10)\n",
    "for recommendation in recommendations:\n",
    "    print (nameDict[int(recommendation[1])] + \\\n",
    "        \" score \" + str(recommendation[2]))"
   ]
  },
  {
   "cell_type": "code",
   "execution_count": null,
   "metadata": {},
   "outputs": [],
   "source": []
  }
 ],
 "metadata": {
  "kernelspec": {
   "display_name": "Python 3",
   "language": "python",
   "name": "python3"
  },
  "language_info": {
   "codemirror_mode": {
    "name": "ipython",
    "version": 3
   },
   "file_extension": ".py",
   "mimetype": "text/x-python",
   "name": "python",
   "nbconvert_exporter": "python",
   "pygments_lexer": "ipython3",
   "version": "3.6.4"
  }
 },
 "nbformat": 4,
 "nbformat_minor": 2
}
