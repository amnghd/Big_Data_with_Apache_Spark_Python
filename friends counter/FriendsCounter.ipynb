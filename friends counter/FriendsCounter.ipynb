{
 "cells": [
  {
   "cell_type": "markdown",
   "metadata": {},
   "source": [
    "### Average Number of Friends:\n",
    "\n",
    "This short program calculates the average number of friends for each person in the key value pair. The following functions are used\"\n",
    "\n",
    "Following functions are used:\n",
    "\n",
    "- ``findspark`` to find the spark for python\n",
    "- ``Spartconf`` configures the pyspark to use local machine\n",
    "- ``sparkcontext`` providing a connection to the machine\n",
    "- ``mapvalues`` mapping values from the old rdd to new rdd and keeps the keys intact\n",
    "- ``reduceByKey`` performs reduce functions on values of a specific key\n",
    "- ``collect`` brings in the results into python readable list"
   ]
  },
  {
   "cell_type": "code",
   "execution_count": 1,
   "metadata": {},
   "outputs": [
    {
     "name": "stdout",
     "output_type": "stream",
     "text": [
      "Average # of friends for 33 years olds is 325.3!\n",
      "Average # of friends for 26 years olds is 242.1!\n",
      "Average # of friends for 55 years olds is 295.5!\n",
      "Average # of friends for 40 years olds is 250.8!\n",
      "Average # of friends for 68 years olds is 269.6!\n",
      "Average # of friends for 59 years olds is 220.0!\n",
      "Average # of friends for 37 years olds is 249.3!\n",
      "Average # of friends for 54 years olds is 278.1!\n",
      "Average # of friends for 38 years olds is 193.5!\n",
      "Average # of friends for 27 years olds is 228.1!\n",
      "Average # of friends for 53 years olds is 222.9!\n",
      "Average # of friends for 57 years olds is 258.8!\n",
      "Average # of friends for 56 years olds is 306.7!\n",
      "Average # of friends for 43 years olds is 230.6!\n",
      "Average # of friends for 36 years olds is 246.6!\n",
      "Average # of friends for 22 years olds is 206.4!\n",
      "Average # of friends for 35 years olds is 211.6!\n",
      "Average # of friends for 45 years olds is 309.5!\n",
      "Average # of friends for 60 years olds is 202.7!\n",
      "Average # of friends for 67 years olds is 214.6!\n",
      "Average # of friends for 19 years olds is 213.3!\n",
      "Average # of friends for 30 years olds is 235.8!\n",
      "Average # of friends for 51 years olds is 302.1!\n",
      "Average # of friends for 25 years olds is 197.5!\n",
      "Average # of friends for 21 years olds is 350.9!\n",
      "Average # of friends for 42 years olds is 303.5!\n",
      "Average # of friends for 49 years olds is 184.7!\n",
      "Average # of friends for 48 years olds is 281.4!\n",
      "Average # of friends for 50 years olds is 254.6!\n",
      "Average # of friends for 39 years olds is 169.3!\n",
      "Average # of friends for 32 years olds is 207.9!\n",
      "Average # of friends for 58 years olds is 116.5!\n",
      "Average # of friends for 64 years olds is 281.3!\n",
      "Average # of friends for 31 years olds is 267.2!\n",
      "Average # of friends for 52 years olds is 340.6!\n",
      "Average # of friends for 24 years olds is 233.8!\n",
      "Average # of friends for 20 years olds is 165.0!\n",
      "Average # of friends for 62 years olds is 220.8!\n",
      "Average # of friends for 41 years olds is 268.6!\n",
      "Average # of friends for 44 years olds is 282.2!\n",
      "Average # of friends for 69 years olds is 235.2!\n",
      "Average # of friends for 65 years olds is 298.2!\n",
      "Average # of friends for 61 years olds is 256.2!\n",
      "Average # of friends for 28 years olds is 209.1!\n",
      "Average # of friends for 66 years olds is 276.4!\n",
      "Average # of friends for 46 years olds is 223.7!\n",
      "Average # of friends for 29 years olds is 215.9!\n",
      "Average # of friends for 18 years olds is 343.4!\n",
      "Average # of friends for 47 years olds is 233.2!\n",
      "Average # of friends for 34 years olds is 245.5!\n",
      "Average # of friends for 63 years olds is 384.0!\n",
      "Average # of friends for 23 years olds is 246.3!\n"
     ]
    }
   ],
   "source": [
    "import findspark\n",
    "findspark.init()\n",
    "from pyspark import SparkConf, SparkContext\n",
    "\n",
    "conf = SparkConf().setMaster(\"local\").setAppName(\"FriendsByAge\")\n",
    "sc = SparkContext(conf = conf)\n",
    "\n",
    "def parseLine(line):\n",
    "    fields = line.split(',')\n",
    "    age = int(fields[2])\n",
    "    numFriends = int(fields[3])\n",
    "    return (age, numFriends)\n",
    "\n",
    "lines = sc.textFile(\"file:///SparkCourse/friends counter/fakefriends.csv\")\n",
    "rdd = lines.map(parseLine)\n",
    "totalsByAge = rdd.mapValues(lambda x: (x, 1)).reduceByKey(lambda x, y: (x[0] + y[0], x[1] + y[1]))\n",
    "averagesByAge = totalsByAge.mapValues(lambda x: x[0] / x[1])\n",
    "results = averagesByAge.collect()\n",
    "for result in results:\n",
    "    print(\"Average # of friends for {} years olds is {}!\".format(result[0], round(result[1],1)))"
   ]
  }
 ],
 "metadata": {
  "kernelspec": {
   "display_name": "Python 3",
   "language": "python",
   "name": "python3"
  },
  "language_info": {
   "codemirror_mode": {
    "name": "ipython",
    "version": 3
   },
   "file_extension": ".py",
   "mimetype": "text/x-python",
   "name": "python",
   "nbconvert_exporter": "python",
   "pygments_lexer": "ipython3",
   "version": "3.6.4"
  }
 },
 "nbformat": 4,
 "nbformat_minor": 2
}
